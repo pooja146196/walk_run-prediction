{
 "cells": [
  {
   "cell_type": "code",
   "execution_count": 8,
   "id": "c137b6d2-0916-4eb6-ad56-1613811d7fe9",
   "metadata": {},
   "outputs": [
    {
     "ename": "IndentationError",
     "evalue": "unindent does not match any outer indentation level (<tokenize>, line 47)",
     "output_type": "error",
     "traceback": [
      "\u001b[1;36m  File \u001b[1;32m<tokenize>:47\u001b[1;36m\u001b[0m\n\u001b[1;33m    acceleration_y= st.text_input(\"accelertion_y\", \"Type Here\")\u001b[0m\n\u001b[1;37m    ^\u001b[0m\n\u001b[1;31mIndentationError\u001b[0m\u001b[1;31m:\u001b[0m unindent does not match any outer indentation level\n"
     ]
    }
   ],
   "source": [
    "import pandas as pd \n",
    "import numpy as np \n",
    "import pickle \n",
    "import streamlit as st \n",
    "from PIL import Image \n",
    "\n",
    "# loading in the model to predict on the data \n",
    "pickle_in = open('LR3.pkl', 'rb') \n",
    "LR = pickle.load(pickle_in) \n",
    "\n",
    "def welcome(): \n",
    "\treturn 'welcome all'\n",
    "\n",
    "# defining the function which will make the prediction using \n",
    "# the data which the user inputs \n",
    "def prediction(date\t,time,wrist,acceleration_x,acceleration_y,acceleration_z,gyro_x,gyro_y,gyro_z): \n",
    "\n",
    "\tprediction = LR3.predict( \n",
    "\t\t[[date\t,time,wrist,acceleration_x,acceleration_y,acceleration_z,gyro_x,gyro_y,gyro_z]]) \n",
    "\tprint(prediction) \n",
    "\treturn prediction \n",
    "\t\n",
    "\n",
    "# this is the main function in which we define our webpage \n",
    "def main(): \n",
    "\t# giving the webpage a title \n",
    "\tst.title(\"walk Run Prediction\") \n",
    "\t\n",
    "\t# here we define some of the front end elements of the web page like \n",
    "\t# the font and background color, the padding and the text to be displayed \n",
    "\thtml_temp = \"\"\" \n",
    "\t<div style =\"background-color:yellow;padding:13px\"> \n",
    "\t<h1 style =\"color:black;text-align:center;\">Streamlit Iris Flower Classifier ML App </h1> \n",
    "\t</div> \n",
    "\t\"\"\"\n",
    "\t\n",
    "\t# this line allows us to display the front end aspects we have \n",
    "\t# defined in the above code \n",
    "\tst.markdown(html_temp, unsafe_allow_html = True) \n",
    "\t\n",
    "\t# the following lines create text boxes in which the user can enter \n",
    "\t# the data required to make the prediction \n",
    "\t date = st.text_input(\"date\", \"Type Here\") \n",
    "\t time= st.text_input(\"time\", \"Type Here\") \n",
    "\t wrist= st.text_input(\"wrist\", \"Type Here\") \n",
    "\t acceleration_x= st.text_input(\"accelertion_x\", \"Type Here\")\n",
    "     acceleration_y= st.text_input(\"accelertion_y\", \"Type Here\") \n",
    "\t acceleration_z= st.text_input(\"accelration_z\", \"Type Here\") \n",
    "\t gyro_x = st.text_input(\"gyro_x\", \"Type Here\") \n",
    "\t gyro_y= st.text_input(\"gyro_y\", \"Type Here\")\n",
    "     gyro_z= st.text_input(\"gyro_z\", \"Type Here\")\n",
    "\n",
    "\n",
    "\n",
    "\n",
    "    \n",
    "\tresult =\"\" \n",
    "\t\n",
    "\t# the below line ensures that when the button called 'Predict' is clicked, \n",
    "\t# the prediction function defined above is called to make the prediction \n",
    "\t# and store it in the variable result \n",
    "\tif st.button(\"Predict\"): \n",
    "\t\tresult = prediction(date,time,wrist,acceleration_x,acceleration_y,acceleration_z,gyro_x,gyro_y,gyro_z) \n",
    "\tst.success('The output is {}'.format(result)) \n",
    "\t\n",
    "if __name__=='__main__': \n",
    "\tmain() \n"
   ]
  },
  {
   "cell_type": "code",
   "execution_count": null,
   "id": "9a5e7c13-7d1d-4965-b6db-58ce9e483c86",
   "metadata": {},
   "outputs": [],
   "source": []
  }
 ],
 "metadata": {
  "kernelspec": {
   "display_name": "Python 3 (ipykernel)",
   "language": "python",
   "name": "python3"
  },
  "language_info": {
   "codemirror_mode": {
    "name": "ipython",
    "version": 3
   },
   "file_extension": ".py",
   "mimetype": "text/x-python",
   "name": "python",
   "nbconvert_exporter": "python",
   "pygments_lexer": "ipython3",
   "version": "3.11.7"
  }
 },
 "nbformat": 4,
 "nbformat_minor": 5
}
